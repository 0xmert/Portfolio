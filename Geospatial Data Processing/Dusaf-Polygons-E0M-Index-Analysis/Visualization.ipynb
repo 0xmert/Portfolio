{
 "cells": [
  {
   "cell_type": "code",
   "execution_count": 2,
   "id": "00781ae2",
   "metadata": {},
   "outputs": [],
   "source": [
    "import ee\n",
    "import geemap"
   ]
  },
  {
   "cell_type": "code",
   "execution_count": 3,
   "id": "bd701d0c",
   "metadata": {},
   "outputs": [
    {
     "data": {
      "text/html": [
       "<p>To authorize access needed by Earth Engine, open the following\n",
       "        URL in a web browser and follow the instructions:</p>\n",
       "        <p><a href=https://code.earthengine.google.com/client-auth?scopes=https%3A//www.googleapis.com/auth/earthengine%20https%3A//www.googleapis.com/auth/devstorage.full_control&request_id=U529taiM0lkpegYjE_Db1NbLxHgjJIVvXqicIjoci2w&tc=_oNEgOUMPkWS82ueH4xt5nA7dDkQs9NKuOt8Esoy5gs&cc=fs0FMRaAhmEMescgqqCTSvXuUl_vUBiqOCvev1wo6xU>https://code.earthengine.google.com/client-auth?scopes=https%3A//www.googleapis.com/auth/earthengine%20https%3A//www.googleapis.com/auth/devstorage.full_control&request_id=U529taiM0lkpegYjE_Db1NbLxHgjJIVvXqicIjoci2w&tc=_oNEgOUMPkWS82ueH4xt5nA7dDkQs9NKuOt8Esoy5gs&cc=fs0FMRaAhmEMescgqqCTSvXuUl_vUBiqOCvev1wo6xU</a></p>\n",
       "        <p>The authorization workflow will generate a code, which you should paste in the box below.</p>\n",
       "        "
      ],
      "text/plain": [
       "<IPython.core.display.HTML object>"
      ]
     },
     "metadata": {},
     "output_type": "display_data"
    },
    {
     "name": "stdout",
     "output_type": "stream",
     "text": [
      "Enter verification code: 4/1AfgeXvvHDEQ0TJu8HBfRDKNN6OJOnE74iV43-9nHOLfSF9bcLA9E7Uyt5us\n",
      "\n",
      "Successfully saved authorization token.\n"
     ]
    }
   ],
   "source": [
    "Map = geemap.Map()"
   ]
  },
  {
   "cell_type": "markdown",
   "id": "c77a60c8",
   "metadata": {},
   "source": [
    "### Cloud Mask"
   ]
  },
  {
   "cell_type": "code",
   "execution_count": 9,
   "id": "f989fbd1",
   "metadata": {},
   "outputs": [
    {
     "name": "stdout",
     "output_type": "stream",
     "text": [
      "Mount Everest elevation (m): 8729\n"
     ]
    },
    {
     "data": {
      "application/vnd.jupyter.widget-view+json": {
       "model_id": "8b84946b9fe74129845a2d8e53d9b921",
       "version_major": 2,
       "version_minor": 0
      },
      "text/plain": [
       "Map(bottom=2016.0, center=[27.9881, 86.925], controls=(WidgetControl(options=['position', 'transparent_bg'], w…"
      ]
     },
     "execution_count": 9,
     "metadata": {},
     "output_type": "execute_result"
    }
   ],
   "source": [
    "# Add Earth Engine dataset\n",
    "image = ee.Image('USGS/SRTMGL1_003')\n",
    "\n",
    "# Set visualization parameters.\n",
    "vis_params = {\n",
    "    'min': 0,\n",
    "    'max': 4000,\n",
    "    'palette': ['006633', 'E5FFCC', '662A00', 'D8D8D8', 'F5F5F5'],\n",
    "}\n",
    "\n",
    "# Print the elevation of Mount Everest.\n",
    "xy = ee.Geometry.Point([86.9250, 27.9881])\n",
    "elev = image.sample(xy, 30).first().get('elevation').getInfo()\n",
    "print('Mount Everest elevation (m):', elev)\n",
    "\n",
    "# Add Earth Engine layers to Map\n",
    "Map.addLayer(image, vis_params, 'DEM')\n",
    "Map.addLayer(xy, {'color': 'red'}, 'Mount Everest')\n",
    "\n",
    "# Center the map based on an Earth Engine object or coordinates (longitude, latitude)\n",
    "# Map.centerObject(xy, 4)\n",
    "Map.setCenter(86.9250, 27.9881, 4)\n",
    "Map.addLayerControl()\n",
    "Map"
   ]
  },
  {
   "cell_type": "code",
   "execution_count": 5,
   "id": "52e310e1",
   "metadata": {},
   "outputs": [
    {
     "data": {
      "application/vnd.jupyter.widget-view+json": {
       "model_id": "8b84946b9fe74129845a2d8e53d9b921",
       "version_major": 2,
       "version_minor": 0
      },
      "text/plain": [
       "Map(center=[25.79, -0.349], controls=(WidgetControl(options=['position', 'transparent_bg'], widget=HBox(childr…"
      ]
     },
     "execution_count": 5,
     "metadata": {},
     "output_type": "execute_result"
    }
   ],
   "source": [
    "Map = geemap.Map()\n",
    "\n",
    "collection = ee.ImageCollection('NOAA/GFS0P25') \\\n",
    "  .filterDate('2018-12-22', '2018-12-23') \\\n",
    "  .limit(24) \\\n",
    "  .select('temperature_2m_above_ground')\n",
    "\n",
    "vis_params = {\n",
    "  'min': -40.0,\n",
    "  'max': 35.0,\n",
    "  'palette': ['blue', 'purple', 'cyan', 'green', 'yellow', 'red']\n",
    "}\n",
    "\n",
    "first_image = collection.first()\n",
    "\n",
    "Map.addLayer(first_image, vis_params, \"First image\")\n",
    "Map.setCenter(-0.3490, 25.7900, 2)\n",
    "Map"
   ]
  },
  {
   "cell_type": "code",
   "execution_count": null,
   "id": "0fc8a01f",
   "metadata": {},
   "outputs": [],
   "source": [
    "\n",
    "\n",
    "function maskCloudAndShadows(image) {\n",
    "  var cloudProb = image.select('MSK_CLDPRB');\n",
    "  var snowProb = image.select('MSK_SNWPRB');\n",
    "  var cloud = cloudProb.lt(5);\n",
    "  var snow = snowProb.lt(5);\n",
    "  var scl = image.select('SCL'); \n",
    "  var shadow = scl.eq(3); // 3 = cloud shadow\n",
    "  var cirrus = scl.eq(10); // 10 = cirrus\n",
    "  var cloudBitMask = 1 << 10;\n",
    "  var cirrusBitMask = 1 << 11;\n",
    "  var qa = image.select('QA60');\n",
    "  // Cloud probability less than 5% or cloud shadow classification\n",
    "  var mask = (cloud.and(snow)).and(cirrus.neq(1)).and(shadow.neq(1)).and(qa.bitwiseAnd(cloudBitMask).eq(0)\n",
    "      .and(qa.bitwiseAnd(cirrusBitMask).eq(0)));\n",
    "  \n",
    "  return image.updateMask(mask);\n",
    "}\n",
    "\n",
    "// Adding a EOM band\n",
    "function addEOM(image) {\n",
    "  var EOM = image.normalizedDifference(['B12', 'B4']).rename('EOM')\n",
    "  return image.addBands([EOM])\n",
    "}\n",
    "\n",
    "\n",
    "var startDate = '2019-01-01'\n",
    "var endDate = '2022-08-01'\n",
    "\n",
    "var collection = ee.ImageCollection('COPERNICUS/S2_SR')\n",
    "    .filterDate(startDate, endDate)\n",
    "    .map(maskCloudAndShadows)\n",
    "    .map(addEOM)\n",
    "    .filter(ee.Filter.bounds(a))\n",
    "    \n",
    "var testPoint = ee.Feature(a.first())\n",
    "//Map.centerObject(testPoint, 10)\n",
    "var chart = ui.Chart.image.series({\n",
    "    imageCollection: collection.select('EOM'),\n",
    "    region: testPoint.geometry().bounds()\n",
    "    }).setOptions({\n",
    "      interpolateNulls: true,\n",
    "      lineWidth: 1,\n",
    "      pointSize: 3,\n",
    "      title: 'EOM2 over Time at a Single Location',\n",
    "      vAxis: {title: 'EOM2'},\n",
    "      hAxis: {title: 'Date', format: 'YYYY-MMM', gridlines: {count: 12}}\n",
    "\n",
    "    })\n",
    "print(chart)\n",
    "\n",
    "var filteredCollection = collection.select('EOM').filter(ee.Filter.bounds(testPoint.geometry().bounds()))\n",
    "\n",
    "var timeSeries = ee.FeatureCollection(filteredCollection.map(function(image) {\n",
    "  var stats = image.reduceRegion({\n",
    "    reducer: ee.Reducer.mean(),\n",
    "    geometry: testPoint.geometry().bounds(),\n",
    "    scale: 10,\n",
    "    maxPixels: 1e10\n",
    "  })\n",
    "  // reduceRegion doesn't return any output if the image doesn't intersect\n",
    "  // with the point or if the image is masked out due to cloud\n",
    "  // If there was no EOM value found, we set the EOM to a NoData value -9999\n",
    "  var EOM = ee.List([stats.get('EOM'), -9999])\n",
    "    .reduce(ee.Reducer.firstNonNull())\n",
    "\n",
    "  // Create a feature with null geometry and EOM value and date as properties\n",
    "  var f = ee.Feature(null, {'EOM': EOM,\n",
    "    'date': ee.Date(image.get('system:time_start')).format('YYYY-MM-dd')})\n",
    "  return f\n",
    "}))\n",
    "\n",
    "// Check the results\n",
    "print(\"Time Series\", timeSeries)\n",
    "\n",
    "// Export to CSV\n",
    "Export.table.toDrive({\n",
    "    collection: timeSeries,\n",
    "    description: 'Single_Location_EOM_time_series',\n",
    "    folder: 'earthengine',\n",
    "    fileNamePrefix: 'EOM_time_series_single',\n",
    "    fileFormat: 'CSV'\n",
    "})\n",
    "\n",
    "/////////////////////////////////////////////////////////////////////////////////////////////\n",
    "\n",
    "var chart = ui.Chart.image.seriesByRegion({\n",
    "    imageCollection: collection.select('EOM'),\n",
    "    regions: a,\n",
    "    reducer: ee.Reducer.mean()\n",
    "})\n",
    "var triplets = collection.map(function(image) {\n",
    "  return image.select('EOM').reduceRegions({\n",
    "    collection: a, \n",
    "    reducer: ee.Reducer.mean().setOutputs(['EOM']), \n",
    "    scale: 10,\n",
    "  })// reduceRegion doesn't return any output if the image doesn't intersect\n",
    "    // with the point or if the image is masked out due to cloud\n",
    "    // If there was no EOM value found, we set the EOM to a NoData value -9999\n",
    "    .map(function(feature) {\n",
    "    var EOM = ee.List([feature.get('EOM'), -9999])\n",
    "      .reduce(ee.Reducer.firstNonNull())\n",
    "    return feature.set({'EOM': EOM, 'imageID': image.id()})\n",
    "    })\n",
    "  }).flatten();\n",
    "  \n",
    "  print(\"Triplets:\", triplets.first())\n",
    "  \n",
    "  var format = function(table, rowId, colId) {\n",
    "  var rows = table.distinct(rowId); \n",
    "  var joined = ee.Join.saveAll('matches').apply({\n",
    "    primary: rows, \n",
    "    secondary: table, \n",
    "    condition: ee.Filter.equals({\n",
    "      leftField: rowId, \n",
    "      rightField: rowId\n",
    "    })\n",
    "  });\n",
    "        \n",
    "  return joined.map(function(row) {\n",
    "      var values = ee.List(row.get('matches'))\n",
    "        .map(function(feature) {\n",
    "          feature = ee.Feature(feature);\n",
    "          return [feature.get(colId), feature.get('EOM')];\n",
    "        });\n",
    "      return row.select([rowId]).set(ee.Dictionary(values.flatten()));\n",
    "    });\n",
    "};\n",
    "\n",
    "var sentinelResults = format(triplets, 'fid', 'imageID');\n",
    "\n",
    "print(\"sentinelResults\", sentinelResults.first())\n",
    "var merge = function(table, rowId) {\n",
    "  return table.map(function(feature) {\n",
    "    var id = feature.get(rowId)\n",
    "    var allKeys = feature.toDictionary().keys().remove(rowId)\n",
    "    var substrKeys = ee.List(allKeys.map(function(val) { \n",
    "        return ee.String(val).slice(0,8)}\n",
    "        ))\n",
    "    var uniqueKeys = substrKeys.distinct()\n",
    "    var pairs = uniqueKeys.map(function(key) {\n",
    "      var matches = feature.toDictionary().select(allKeys.filter(ee.Filter.stringContains('item', key))).values()\n",
    "      var val = matches.reduce(ee.Reducer.max())\n",
    "      return [key, val]\n",
    "    })\n",
    "    return feature.select([rowId]).set(ee.Dictionary(pairs.flatten()))\n",
    "  })\n",
    "}\n",
    "var sentinelMerged = merge(sentinelResults, 'fid');\n",
    "print(\"Sentinel Merged\", sentinelMerged.first())\n",
    "Export.table.toDrive({\n",
    "    collection: sentinelMerged,\n",
    "    description: 'Multiple_Locations_MNDWI_time_series',\n",
    "    folder: 'earthengine',\n",
    "    fileNamePrefix: 'MNDWI_time_series_multiple',\n",
    "    fileFormat: 'CSV'\n",
    "})\n"
   ]
  },
  {
   "cell_type": "code",
   "execution_count": null,
   "id": "8c3a5de7",
   "metadata": {},
   "outputs": [],
   "source": []
  }
 ],
 "metadata": {
  "kernelspec": {
   "display_name": "geospatial",
   "language": "python",
   "name": "geospatial"
  },
  "language_info": {
   "codemirror_mode": {
    "name": "ipython",
    "version": 3
   },
   "file_extension": ".py",
   "mimetype": "text/x-python",
   "name": "python",
   "nbconvert_exporter": "python",
   "pygments_lexer": "ipython3",
   "version": "3.10.6"
  }
 },
 "nbformat": 4,
 "nbformat_minor": 5
}
